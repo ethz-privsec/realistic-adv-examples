{
 "cells": [
  {
   "cell_type": "code",
   "execution_count": 1,
   "id": "3d38ee3d-ea0e-47cd-83c7-9651fdb24d5f",
   "metadata": {},
   "outputs": [],
   "source": [
    "%load_ext autoreload\n",
    "%autoreload 2\n",
    "\n",
    "%load_ext dotenv\n",
    "%dotenv"
   ]
  },
  {
   "cell_type": "code",
   "execution_count": 2,
   "id": "2f3aa615-73b4-490a-af57-9c9f165000b5",
   "metadata": {},
   "outputs": [],
   "source": [
    "import json\n",
    "import os\n",
    "from collections import Counter, defaultdict\n",
    "from pathlib import Path\n",
    "from typing import List, Optional"
   ]
  },
  {
   "cell_type": "code",
   "execution_count": 3,
   "id": "1f743803-3d02-4151-8e1f-b9866a9b132f",
   "metadata": {},
   "outputs": [],
   "source": [
    "import numpy as np\n",
    "import torch\n",
    "import tqdm\n",
    "from pydantic import parse_file_as"
   ]
  },
  {
   "cell_type": "code",
   "execution_count": 4,
   "id": "22f1a3ad-309e-4198-b3e5-4be99492f92e",
   "metadata": {},
   "outputs": [
    {
     "name": "stderr",
     "output_type": "stream",
     "text": [
      "2022-12-02 13:45:38.698687: I tensorflow/core/platform/cpu_feature_guard.cc:193] This TensorFlow binary is optimized with oneAPI Deep Neural Network Library (oneDNN) to use the following CPU instructions in performance-critical operations:  AVX2 FMA\n",
      "To enable them in other operations, rebuild TensorFlow with the appropriate compiler flags.\n",
      "2022-12-02 13:45:38.877332: E tensorflow/stream_executor/cuda/cuda_blas.cc:2981] Unable to register cuBLAS factory: Attempting to register factory for plugin cuBLAS when one has already been registered\n",
      "2022-12-02 13:45:39.417907: W tensorflow/stream_executor/platform/default/dso_loader.cc:64] Could not load dynamic library 'libnvinfer.so.7'; dlerror: libnvinfer.so.7: cannot open shared object file: No such file or directory; LD_LIBRARY_PATH: :/local/home/edebenedetti/miniconda3/envs/pt/lib/\n",
      "2022-12-02 13:45:39.417983: W tensorflow/stream_executor/platform/default/dso_loader.cc:64] Could not load dynamic library 'libnvinfer_plugin.so.7'; dlerror: libnvinfer_plugin.so.7: cannot open shared object file: No such file or directory; LD_LIBRARY_PATH: :/local/home/edebenedetti/miniconda3/envs/pt/lib/\n",
      "2022-12-02 13:45:39.417988: W tensorflow/compiler/tf2tensorrt/utils/py_utils.cc:38] TF-TRT Warning: Cannot dlopen some TensorRT libraries. If you would like to use Nvidia GPU with TensorRT, please make sure the missing libraries mentioned above are installed properly.\n"
     ]
    }
   ],
   "source": [
    "from arch.edenai_model import GoogleNSFWModel, ProviderResponse, ResponseItem, ResponseLabel, GoogleResponseLabel\n",
    "from dataset import load_imagenet_nsfw_test_data"
   ]
  },
  {
   "cell_type": "code",
   "execution_count": 5,
   "id": "549d2774-7548-49f5-85fe-9b352c3ed922",
   "metadata": {},
   "outputs": [
    {
     "name": "stderr",
     "output_type": "stream",
     "text": [
      "Using custom data configuration dedeswim--imagenet-nsfw-acd0b4b4851f04c2\n",
      "Found cached dataset parquet (/data/huggingface/datasets/dedeswim___parquet/dedeswim--imagenet-nsfw-acd0b4b4851f04c2/0.0.0/2a3b91fbd88a2c90d1dbbb32b460cf621d31bd5b05b934492fdef7d8d6f236ec)\n"
     ]
    }
   ],
   "source": [
    "OUT_DIR = Path(\"nsfw_filters_results\")\n",
    "dl = load_imagenet_nsfw_test_data()\n",
    "device = torch.device(\"cuda:0\")"
   ]
  },
  {
   "cell_type": "code",
   "execution_count": 6,
   "id": "b3f59e1e-4327-4b37-8339-334cd34ef001",
   "metadata": {},
   "outputs": [],
   "source": [
    "def classify_dl(dl, model, out_file):\n",
    "    overall_results = []\n",
    "    for batch in tqdm.tqdm(dl):\n",
    "        result = model.make_request(batch[\"image\"].squeeze())\n",
    "        overall_results.append(result)\n",
    "    results_json = [result.json() for result in overall_results]\n",
    "    with out_file.open(\"w\") as f:\n",
    "        json.dump(results_json, f)\n",
    "    return overall_results\n",
    "\n",
    "def restore_results(label_type, out_file):\n",
    "    with out_file.open(\"r\") as f:\n",
    "        restored_json_results = json.load(f)\n",
    "    return [\n",
    "        ProviderResponse[label_type](**json.loads(restored_result)) for restored_result in restored_json_results\n",
    "    ]"
   ]
  },
  {
   "cell_type": "code",
   "execution_count": 7,
   "id": "eee2d31f-5f2f-4c0d-83e5-afd7b3570dbc",
   "metadata": {},
   "outputs": [
    {
     "name": "stderr",
     "output_type": "stream",
     "text": [
      "100%|████████████████████████████████████████████████████████████████████████████████████████████████████████████████████████████████████████████████████████████████████████████████████████| 10/10 [00:02<00:00,  3.89it/s]\n"
     ]
    },
    {
     "data": {
      "text/plain": [
       "True"
      ]
     },
     "execution_count": 7,
     "metadata": {},
     "output_type": "execute_result"
    }
   ],
   "source": [
    "google_test_model = GoogleNSFWModel(device)\n",
    "test_dl = list(map(lambda it: it[0], zip(dl, range(10))))\n",
    "google_test_overall_results = classify_dl(test_dl, google_test_model, OUT_DIR / \"google_test.json\")\n",
    "restored_google_test_overall_results = restore_results(GoogleResponseLabel, OUT_DIR / \"google_test.json\")\n",
    "google_test_overall_results == restored_google_test_overall_results"
   ]
  },
  {
   "cell_type": "code",
   "execution_count": 8,
   "id": "a2ebdfc2-a4d3-4e7e-b83c-d118d4078d43",
   "metadata": {},
   "outputs": [],
   "source": [
    "# Running this cell costs ~1.5$\n",
    "\n",
    "# google_model = GoogleNSFWModel(device, api_key=os.environ[\"EDENAI_API_KEY\"])\n",
    "# google_overall_results = classify_dl(dl, google_model, OUT_DIR / \"google.json\")"
   ]
  },
  {
   "cell_type": "code",
   "execution_count": 9,
   "id": "4f64588e-c7ea-44da-a593-05233f617995",
   "metadata": {},
   "outputs": [],
   "source": [
    "google_overall_results = restore_results(GoogleResponseLabel, OUT_DIR / \"google.json\")"
   ]
  },
  {
   "cell_type": "code",
   "execution_count": 10,
   "id": "bc101e3b-cdec-4806-8af8-aa56096945c9",
   "metadata": {},
   "outputs": [
    {
     "data": {
      "text/plain": [
       "758"
      ]
     },
     "execution_count": 10,
     "metadata": {},
     "output_type": "execute_result"
    }
   ],
   "source": [
    "def remove_status(provider_responses: List[ProviderResponse]) -> List[ResponseItem]:\n",
    "    return [response.items for response in provider_responses]\n",
    "\n",
    "def filter_label(items_list: List[List[ResponseItem]], label: ResponseLabel) -> List[ResponseItem]:\n",
    "    return [item for items in items_list for item in items if item.label == label]\n",
    "\n",
    "def filter_items_with_score(items: List[ResponseItem], score: int) -> List[ResponseItem]:\n",
    "    return [item for item in items if item[1].likelihood == score]\n",
    "\n",
    "def get_indices_with_score_for_label(items: List[ProviderResponse], label: ResponseLabel, score: int, out_file: Optional[Path]) -> List[int]:\n",
    "    overall_items = remove_status(items)\n",
    "    items_with_label = filter_label(overall_items, label)\n",
    "    items_with_label_and_score = filter_items_with_score(enumerate(items_with_label), score)\n",
    "    indices = list(map(lambda x: x[0], items_with_label_and_score))\n",
    "    if out_file is not None:\n",
    "        np.save(out_file, np.array(indices))\n",
    "    return indices\n",
    "\n",
    "racy_items_5_indices = get_indices_with_score_for_label(google_overall_results, GoogleResponseLabel.Racy, 5, OUT_DIR / \"google_racy_five_indices.npy\")\n",
    "len(racy_items_5_indices)"
   ]
  },
  {
   "cell_type": "code",
   "execution_count": 11,
   "id": "f3260f86-2221-43c7-be6c-72718bca1923",
   "metadata": {},
   "outputs": [
    {
     "data": {
      "text/plain": [
       "758"
      ]
     },
     "execution_count": 11,
     "metadata": {},
     "output_type": "execute_result"
    }
   ],
   "source": [
    "len(np.load(\"nsfw_filters_results/google_racy_five_indices.npy\"))"
   ]
  },
  {
   "cell_type": "code",
   "execution_count": 12,
   "id": "c56da3fe-fdfe-4f76-b457-5763aed1605e",
   "metadata": {},
   "outputs": [],
   "source": [
    "from arch.edenai_model import API4AINSFWModel, API4AIResponseLabel"
   ]
  },
  {
   "cell_type": "code",
   "execution_count": 13,
   "id": "aa30c181-4a5b-477a-acb0-1280afc4a093",
   "metadata": {},
   "outputs": [
    {
     "name": "stderr",
     "output_type": "stream",
     "text": [
      "100%|████████████████████████████████████████████████████████████████████████████████████████████████████████████████████████████████████████████████████████████████████████████████████████| 10/10 [00:02<00:00,  4.45it/s]\n"
     ]
    },
    {
     "data": {
      "text/plain": [
       "True"
      ]
     },
     "execution_count": 13,
     "metadata": {},
     "output_type": "execute_result"
    }
   ],
   "source": [
    "api4ai_test_model = API4AINSFWModel(device)\n",
    "test_dl = list(map(lambda it: it[0], zip(dl, range(10))))\n",
    "api4ai_test_overall_results = classify_dl(test_dl, api4ai_test_model, OUT_DIR / \"api4ai_test.json\")\n",
    "restored_api4ai_test_overall_results = restore_results(API4AIResponseLabel, OUT_DIR / \"api4ai_test.json\")\n",
    "api4ai_test_overall_results == restored_api4ai_test_overall_results"
   ]
  },
  {
   "cell_type": "code",
   "execution_count": 14,
   "id": "c7f39b1c-251b-485a-ac1c-c8cca742eb3a",
   "metadata": {},
   "outputs": [],
   "source": [
    "# api4ai_model = API4AINSFWModel(device, api_key=os.environ[\"EDENAI_API_KEY\"])\n",
    "# api4ai_overall_results = classify_dl(dl, api4ai_model, OUT_DIR / \"api4ai.json\")"
   ]
  },
  {
   "cell_type": "code",
   "execution_count": 15,
   "id": "56abb944-6172-4308-995e-d55b79f1f7f9",
   "metadata": {},
   "outputs": [],
   "source": [
    "api4ai_overall_results = restore_results(API4AIResponseLabel, OUT_DIR / \"api4ai.json\")"
   ]
  },
  {
   "cell_type": "code",
   "execution_count": 16,
   "id": "b33bb530-43a0-4d5a-a905-82197709d2f8",
   "metadata": {},
   "outputs": [
    {
     "data": {
      "text/plain": [
       "829"
      ]
     },
     "execution_count": 16,
     "metadata": {},
     "output_type": "execute_result"
    }
   ],
   "source": [
    "nsfw_items_5_indices = get_indices_with_score_for_label(api4ai_overall_results, API4AIResponseLabel.nsfw, 5, OUT_DIR / \"api4ai_nsfw_five_indices.npy\")\n",
    "len(nsfw_items_5_indices)"
   ]
  },
  {
   "cell_type": "code",
   "execution_count": 17,
   "id": "8b31dc15-f9fe-4e0c-b69b-555e75941ca0",
   "metadata": {},
   "outputs": [],
   "source": [
    "from arch.edenai_model import AmazonNSFWModel, AmazonResponseLabel"
   ]
  },
  {
   "cell_type": "code",
   "execution_count": 18,
   "id": "0cb696a3-449f-49ad-8247-21f37d2f7640",
   "metadata": {},
   "outputs": [
    {
     "name": "stderr",
     "output_type": "stream",
     "text": [
      "100%|████████████████████████████████████████████████████████████████████████████████████████████████████████████████████████████████████████████████████████████████████████████████████████| 10/10 [00:02<00:00,  4.50it/s]\n"
     ]
    },
    {
     "data": {
      "text/plain": [
       "True"
      ]
     },
     "execution_count": 18,
     "metadata": {},
     "output_type": "execute_result"
    }
   ],
   "source": [
    "amazon_test_model = AmazonNSFWModel(device)\n",
    "test_dl = list(map(lambda it: it[0], zip(dl, range(10))))\n",
    "amazon_test_overall_results = classify_dl(test_dl, amazon_test_model, OUT_DIR / \"amazon_test.json\")\n",
    "restored_amazon_test_overall_results = restore_results(AmazonResponseLabel, OUT_DIR / \"amazon_test.json\")\n",
    "amazon_test_overall_results == restored_amazon_test_overall_results"
   ]
  },
  {
   "cell_type": "code",
   "execution_count": 19,
   "id": "6c642dcc-2a2e-484f-8812-92be2607e0aa",
   "metadata": {},
   "outputs": [],
   "source": [
    "# amazon_model = AmazonNSFWModel(device, api_key=os.environ[\"EDENAI_API_KEY\"])\n",
    "# amazon_overall_results = classify_dl(dl, amazon_model, OUT_DIR / \"amazon.json\")"
   ]
  },
  {
   "cell_type": "code",
   "execution_count": 20,
   "id": "9b91e9ee-f4f0-4a65-886b-3707589dd815",
   "metadata": {},
   "outputs": [],
   "source": [
    "amazon_overall_results = restore_results(AmazonResponseLabel, OUT_DIR / \"amazon.json\")"
   ]
  },
  {
   "cell_type": "code",
   "execution_count": 28,
   "id": "e08d5039-8355-4073-8505-12a8e3414ce7",
   "metadata": {},
   "outputs": [
    {
     "data": {
      "text/plain": [
       "607"
      ]
     },
     "execution_count": 28,
     "metadata": {},
     "output_type": "execute_result"
    }
   ],
   "source": [
    "suggestive_items_5_images = get_indices_with_score_for_label(amazon_overall_results, AmazonResponseLabel.Suggestive, 5, OUT_DIR / \"amazon_suggestive_five_indices.npy\")\n",
    "len(suggestive_items_5_images)"
   ]
  },
  {
   "cell_type": "code",
   "execution_count": 21,
   "id": "418262f1-24bd-4ae4-86c7-fe4903e59710",
   "metadata": {},
   "outputs": [
    {
     "name": "stderr",
     "output_type": "stream",
     "text": [
      "100%|████████████████████████████████████████████████████████████████████████████████████████████████████████████████████████████████████████████████████████████████████████████████████| 1000/1000 [09:10<00:00,  1.82it/s]\n"
     ]
    }
   ],
   "source": [
    "amazon_model = AmazonNSFWModel(device, api_key=os.environ[\"EDENAI_API_KEY\"])\n",
    "amazon_overall_results_replay = classify_dl(dl, amazon_model, OUT_DIR / \"amazon_replay.json\")"
   ]
  },
  {
   "cell_type": "code",
   "execution_count": 22,
   "id": "121cf854-f54b-486f-bc33-6b69de9c67db",
   "metadata": {},
   "outputs": [
    {
     "data": {
      "text/plain": [
       "True"
      ]
     },
     "execution_count": 22,
     "metadata": {},
     "output_type": "execute_result"
    }
   ],
   "source": [
    "amazon_overall_results_replay == amazon_overall_results"
   ]
  },
  {
   "cell_type": "code",
   "execution_count": 23,
   "id": "1898783c-64b4-4996-89fd-ce441f0f8dfd",
   "metadata": {},
   "outputs": [
    {
     "data": {
      "text/plain": [
       "607"
      ]
     },
     "execution_count": 23,
     "metadata": {},
     "output_type": "execute_result"
    }
   ],
   "source": [
    "len(get_indices_with_score_for_label(amazon_overall_results, AmazonResponseLabel.Suggestive, 5, OUT_DIR / \"amazon_suggestive_five_indices.npy\"))"
   ]
  },
  {
   "cell_type": "code",
   "execution_count": 34,
   "id": "acf47cae-f417-45c7-b8cb-a887e768397f",
   "metadata": {},
   "outputs": [
    {
     "data": {
      "text/plain": [
       "ProviderResponse[AmazonResponseLabel](status=<ResponseStatus.success: 'success'>, items=[])"
      ]
     },
     "execution_count": 34,
     "metadata": {},
     "output_type": "execute_result"
    }
   ],
   "source": [
    "amazon_overall_results_replay[suggestive_items_5_images[18]]"
   ]
  },
  {
   "cell_type": "code",
   "execution_count": null,
   "id": "ea26a63a-1ab6-4399-99f7-2c2103739ee8",
   "metadata": {},
   "outputs": [],
   "source": []
  }
 ],
 "metadata": {
  "kernelspec": {
   "display_name": "Python 3 (ipykernel)",
   "language": "python",
   "name": "python3"
  },
  "language_info": {
   "codemirror_mode": {
    "name": "ipython",
    "version": 3
   },
   "file_extension": ".py",
   "mimetype": "text/x-python",
   "name": "python",
   "nbconvert_exporter": "python",
   "pygments_lexer": "ipython3",
   "version": "3.10.6"
  }
 },
 "nbformat": 4,
 "nbformat_minor": 5
}
